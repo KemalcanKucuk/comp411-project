{
  "cells": [
    {
      "cell_type": "code",
      "execution_count": 1,
      "metadata": {
        "id": "NOGXO9B_teJC"
      },
      "outputs": [],
      "source": [
        "import os\n",
        "from tqdm import tqdm\n",
        "import pandas as pd\n",
        "import librosa as lr\n",
        "import librosa.feature as lrf\n",
        "import numpy as np\n",
        "import sklearn as sk\n",
        "import matplotlib.pyplot as plt\n",
        "from sklearn.model_selection import train_test_split\n",
        "from sklearn.preprocessing import LabelEncoder, StandardScaler\n",
        "from sklearn.decomposition import PCA\n",
        "from sklearn import metrics\n",
        "from sklearn.metrics import confusion_matrix, ConfusionMatrixDisplay\n",
        "from sklearn.naive_bayes import GaussianNB\n",
        "from sklearn.mixture import GaussianMixture\n",
        "from sklearn.neighbors import KNeighborsClassifier\n",
        "from sklearn.ensemble import RandomForestClassifier\n",
        "from sklearn.neural_network import MLPClassifier\n",
        "from sklearn.svm import SVC\n",
        "from sklearn.neural_network import MLPClassifier\n",
        "import warnings\n",
        "import torch\n",
        "import PIL\n",
        "import PIL.Image\n",
        "import tensorflow as tf\n",
        "import tensorflow_datasets as tfds\n",
        "from tensorflow import keras\n",
        "from tensorflow.keras import layers\n",
        "from tensorflow.keras.models import Sequential\n",
        "import tensorflow.keras.utils\n",
        "\n",
        "warnings.filterwarnings(\"ignore\")"
      ]
    },
    {
      "cell_type": "code",
      "execution_count": 2,
      "metadata": {
        "colab": {
          "base_uri": "https://localhost:8080/"
        },
        "id": "iszRfiAbtqNO",
        "outputId": "6411de1a-01b7-4bb7-c0bd-99db9b96ecd9"
      },
      "outputs": [
        {
          "output_type": "stream",
          "name": "stdout",
          "text": [
            "Mounted at /content/drive\n"
          ]
        }
      ],
      "source": [
        "from google.colab import drive\n",
        "drive.mount('/content/drive')"
      ]
    },
    {
      "cell_type": "markdown",
      "metadata": {
        "id": "H1XYGVxcteJF"
      },
      "source": [
        "## Data Loading"
      ]
    },
    {
      "cell_type": "code",
      "execution_count": 18,
      "metadata": {
        "id": "PPjndbIFteJJ"
      },
      "outputs": [],
      "source": [
        "from tqdm import tqdm\n",
        "import cv2\n",
        "\n",
        "#/content/drive/.shortcut-targets-by-id/1t2m1B5Db93pdH3FPEMuGW2WGR73BeWnR/COMP411/Project\n",
        "#/content/drive/MyDrive/Project/images_custom/\n",
        "\n",
        "# Insert Path to where the image_custom folder is\n",
        "genres_path = \"/content/drive/MyDrive/Project/images_custom/\"\n",
        "batch_size = 32\n",
        "img_height = 432\n",
        "img_width = 288\n",
        "\n",
        "X = []\n",
        "Y = []\n",
        "\n",
        "genres = os.listdir(genres_path)\n",
        "for genre in genres:\n",
        "  if genre == '.DS_Store':\n",
        "    continue\n",
        "  genre_path = genres_path + genre + \"/\"\n",
        "  for song_path in os.listdir(genre_path):\n",
        "    img = cv2.imread(genre_path + song_path)\n",
        "    if img.shape != (288, 432, 3):\n",
        "      print(img.shape)\n",
        "    X.append(img)\n",
        "    Y.append(song_path.split('_')[0])\n",
        "X = np.array(X)\n",
        "Y = np.array(Y)"
      ]
    },
    {
      "cell_type": "code",
      "execution_count": 19,
      "metadata": {
        "id": "s0YbqwltTYOZ"
      },
      "outputs": [],
      "source": [
        "from sklearn import preprocessing\n",
        "label_encoder = preprocessing.LabelEncoder()\n",
        "genre_list = [\"blues\", \"classical\", \"country\", \"disco\", \"hiphop\", \"jazz\", \"metal\", \"pop\", \"reggae\", \"rock\"]\n",
        "Y = label_encoder.fit_transform(Y)"
      ]
    },
    {
      "cell_type": "code",
      "execution_count": 20,
      "metadata": {
        "id": "MSdOwIsBVjV6"
      },
      "outputs": [],
      "source": [
        "X_train, X_test, y_train, y_test = sk.model_selection.train_test_split(X,Y, test_size = 0.2)\n",
        "X_train = X_train / 255.0\n",
        "X_test = X_test / 255.0"
      ]
    },
    {
      "cell_type": "code",
      "execution_count": 21,
      "metadata": {
        "colab": {
          "base_uri": "https://localhost:8080/"
        },
        "id": "6w-aajmsMx-d",
        "outputId": "42c42f83-c5c4-4597-c0b0-da6ee07a6ea0"
      },
      "outputs": [
        {
          "output_type": "stream",
          "name": "stdout",
          "text": [
            "(799, 288, 432, 3)\n"
          ]
        }
      ],
      "source": [
        "# check if the image shape and training split size is correct\n",
        "# overall shape should be (799, 288, 432, 3)\n",
        "print(X_train.shape)"
      ]
    },
    {
      "cell_type": "markdown",
      "source": [
        "## Model Architecture"
      ],
      "metadata": {
        "id": "NLFP50KwxMV-"
      }
    },
    {
      "cell_type": "code",
      "execution_count": null,
      "metadata": {
        "id": "BKuEHuzTteJN",
        "colab": {
          "base_uri": "https://localhost:8080/",
          "height": 110
        },
        "outputId": "465a27d4-0969-43f9-cfaf-02ab8d916467"
      },
      "outputs": [
        {
          "output_type": "execute_result",
          "data": {
            "text/plain": [
              "\"\\nnum_classes = len(genre_list)\\nmodel = Sequential([\\n  layers.Conv2D(32, (3,3), activation='relu', kernel_initializer='he_uniform'),\\n  layers.MaxPooling2D(),\\n  layers.BatchNormalization(),\\n  layers.Conv2D(32, (3,3)),\\n  layers.Dropout(0.2),\\n  layers.MaxPooling2D(),\\n  layers.BatchNormalization(),\\n  layers.Conv2D(32, (3,3)),\\n  layers.MaxPooling2D(),\\n  layers.BatchNormalization(),\\n  layers.Conv2D(32, (3,3)),\\n  layers.Dropout(0.2),\\n  layers.MaxPooling2D(),\\n  layers.BatchNormalization(),\\n  layers.Flatten(),\\n  layers.Dense(32, activation='relu'),\\n  layers.Dense(num_classes, activation = 'softmax')\\n])\\n\""
            ],
            "application/vnd.google.colaboratory.intrinsic+json": {
              "type": "string"
            }
          },
          "metadata": {},
          "execution_count": 7
        }
      ],
      "source": [
        "num_classes = len(genre_list)\n",
        "model = Sequential([\n",
        "  layers.Conv2D(32, (3,3), activation='relu', kernel_initializer='he_uniform'),\n",
        "  layers.MaxPooling2D(),\n",
        "  layers.BatchNormalization(),\n",
        "  layers.Conv2D(32, (3,3)),\n",
        "  layers.MaxPooling2D(),\n",
        "  layers.BatchNormalization(),\n",
        "  layers.Conv2D(32, (3,3)),\n",
        "  layers.MaxPooling2D(),\n",
        "  layers.BatchNormalization(),\n",
        "  layers.Conv2D(32, (3,3)),\n",
        "  layers.MaxPooling2D(),\n",
        "  layers.BatchNormalization(),\n",
        "  layers.Flatten(),\n",
        "  layers.Dense(32, activation='relu'),\n",
        "  layers.Dense(num_classes, activation = 'softmax')\n",
        "])\n",
        "\n",
        "\n",
        "\"\"\"\n",
        "num_classes = len(genre_list)\n",
        "model = Sequential([\n",
        "  layers.Conv2D(32, (3,3), activation='relu', kernel_initializer='he_uniform'),\n",
        "  layers.MaxPooling2D(),\n",
        "  layers.BatchNormalization(),\n",
        "  layers.Conv2D(32, (3,3)),\n",
        "  layers.Dropout(0.2),\n",
        "  layers.MaxPooling2D(),\n",
        "  layers.BatchNormalization(),\n",
        "  layers.Conv2D(32, (3,3)),\n",
        "  layers.MaxPooling2D(),\n",
        "  layers.BatchNormalization(),\n",
        "  layers.Conv2D(32, (3,3)),\n",
        "  layers.Dropout(0.2),\n",
        "  layers.MaxPooling2D(),\n",
        "  layers.BatchNormalization(),\n",
        "  layers.Flatten(),\n",
        "  layers.Dense(32, activation='relu'),\n",
        "  layers.Dense(num_classes, activation = 'softmax')\n",
        "])\n",
        "\"\"\"\n",
        "\n",
        "#model = keras.models.Sequential([\n",
        "#    keras.layers.Dense(512, activation=\"relu\", input_shape=((288, 432, 3))),\n",
        "#    keras.layers.Dropout(0.2),\n",
        "#    \n",
        "#    keras.layers.Dense(256,activation=\"relu\"),\n",
        "#    keras.layers.Dropout(0.2),\n",
        "#    \n",
        "#    keras.layers.Dense(128,activation=\"relu\"),\n",
        "#    keras.layers.Dropout(0.2),\n",
        "#    \n",
        "#    keras.layers.Dense(64,activation=\"relu\"),\n",
        "#    keras.layers.Dropout(0.2),\n",
        "#    \n",
        "#    keras.layers.Dense(10, activation=\"softmax\"),\n",
        "#    \n",
        "#])"
      ]
    },
    {
      "cell_type": "code",
      "execution_count": null,
      "metadata": {
        "id": "j2dkonIRteJP"
      },
      "outputs": [],
      "source": [
        "callback = tf.keras.callbacks.EarlyStopping(monitor='loss', patience=3)\n",
        "model.compile(optimizer='adam',\n",
        "              loss=tf.keras.losses.SparseCategoricalCrossentropy(),\n",
        "              metrics=['accuracy'])"
      ]
    },
    {
      "cell_type": "markdown",
      "source": [
        "## Training"
      ],
      "metadata": {
        "id": "p9hyLOnOxGZ0"
      }
    },
    {
      "cell_type": "code",
      "execution_count": null,
      "metadata": {
        "id": "DIRP8JQrteJQ",
        "colab": {
          "base_uri": "https://localhost:8080/"
        },
        "outputId": "b7355ba1-b0fa-4f15-ec75-6f665755c5c4"
      },
      "outputs": [
        {
          "output_type": "stream",
          "name": "stdout",
          "text": [
            "Epoch 1/100\n",
            "13/13 [==============================] - 15s 350ms/step - loss: 2.7868 - accuracy: 0.1589 - val_loss: 4.3590 - val_accuracy: 0.1100\n",
            "Epoch 2/100\n",
            "13/13 [==============================] - 3s 196ms/step - loss: 2.0379 - accuracy: 0.2641 - val_loss: 6.6434 - val_accuracy: 0.1100\n",
            "Epoch 3/100\n",
            "13/13 [==============================] - 3s 200ms/step - loss: 1.9597 - accuracy: 0.2365 - val_loss: 4.8510 - val_accuracy: 0.1950\n",
            "Epoch 4/100\n",
            "13/13 [==============================] - 3s 201ms/step - loss: 1.7345 - accuracy: 0.3429 - val_loss: 4.1340 - val_accuracy: 0.2200\n",
            "Epoch 5/100\n",
            "13/13 [==============================] - 3s 198ms/step - loss: 1.6972 - accuracy: 0.3692 - val_loss: 3.8780 - val_accuracy: 0.1100\n",
            "Epoch 6/100\n",
            "13/13 [==============================] - 3s 201ms/step - loss: 1.6191 - accuracy: 0.3605 - val_loss: 3.0399 - val_accuracy: 0.1400\n",
            "Epoch 7/100\n",
            "13/13 [==============================] - 3s 201ms/step - loss: 1.4415 - accuracy: 0.4343 - val_loss: 3.7307 - val_accuracy: 0.1400\n",
            "Epoch 8/100\n",
            "13/13 [==============================] - 3s 202ms/step - loss: 1.2307 - accuracy: 0.5106 - val_loss: 2.6180 - val_accuracy: 0.1100\n",
            "Epoch 9/100\n",
            "13/13 [==============================] - 3s 201ms/step - loss: 1.0410 - accuracy: 0.6033 - val_loss: 2.5821 - val_accuracy: 0.1750\n",
            "Epoch 10/100\n",
            "13/13 [==============================] - 3s 199ms/step - loss: 0.9429 - accuracy: 0.6408 - val_loss: 2.9822 - val_accuracy: 0.1800\n",
            "Epoch 11/100\n",
            "13/13 [==============================] - 3s 198ms/step - loss: 0.6737 - accuracy: 0.7422 - val_loss: 2.7562 - val_accuracy: 0.1800\n",
            "Epoch 12/100\n",
            "13/13 [==============================] - 3s 200ms/step - loss: 0.4936 - accuracy: 0.8298 - val_loss: 2.2733 - val_accuracy: 0.3450\n",
            "Epoch 13/100\n",
            "13/13 [==============================] - 3s 197ms/step - loss: 0.3823 - accuracy: 0.8698 - val_loss: 2.0542 - val_accuracy: 0.2250\n",
            "Epoch 14/100\n",
            "13/13 [==============================] - 3s 201ms/step - loss: 0.2754 - accuracy: 0.9212 - val_loss: 2.2431 - val_accuracy: 0.3250\n",
            "Epoch 15/100\n",
            "13/13 [==============================] - 3s 199ms/step - loss: 0.1510 - accuracy: 0.9712 - val_loss: 2.5157 - val_accuracy: 0.2950\n",
            "Epoch 16/100\n",
            "13/13 [==============================] - 3s 199ms/step - loss: 0.0902 - accuracy: 0.9862 - val_loss: 2.4732 - val_accuracy: 0.2650\n",
            "Epoch 17/100\n",
            "13/13 [==============================] - 3s 200ms/step - loss: 0.0537 - accuracy: 0.9962 - val_loss: 2.4158 - val_accuracy: 0.2750\n",
            "Epoch 18/100\n",
            "13/13 [==============================] - 3s 199ms/step - loss: 0.0343 - accuracy: 0.9962 - val_loss: 2.4145 - val_accuracy: 0.2700\n",
            "Epoch 19/100\n",
            "13/13 [==============================] - 3s 199ms/step - loss: 0.0258 - accuracy: 0.9962 - val_loss: 2.3375 - val_accuracy: 0.3300\n",
            "Epoch 20/100\n",
            "13/13 [==============================] - 3s 202ms/step - loss: 0.0179 - accuracy: 0.9975 - val_loss: 2.4940 - val_accuracy: 0.3300\n",
            "Epoch 21/100\n",
            "13/13 [==============================] - 3s 199ms/step - loss: 0.0160 - accuracy: 0.9975 - val_loss: 2.3910 - val_accuracy: 0.3300\n",
            "Epoch 22/100\n",
            "13/13 [==============================] - 3s 198ms/step - loss: 0.0138 - accuracy: 0.9987 - val_loss: 2.3795 - val_accuracy: 0.3500\n",
            "Epoch 23/100\n",
            "13/13 [==============================] - 3s 198ms/step - loss: 0.0137 - accuracy: 0.9975 - val_loss: 2.1013 - val_accuracy: 0.3750\n",
            "Epoch 24/100\n",
            "13/13 [==============================] - 3s 199ms/step - loss: 0.0118 - accuracy: 0.9975 - val_loss: 2.2897 - val_accuracy: 0.4050\n",
            "Epoch 25/100\n",
            "13/13 [==============================] - 3s 201ms/step - loss: 0.0098 - accuracy: 0.9987 - val_loss: 2.1219 - val_accuracy: 0.4050\n",
            "Epoch 26/100\n",
            "13/13 [==============================] - 3s 200ms/step - loss: 0.0081 - accuracy: 0.9987 - val_loss: 2.1561 - val_accuracy: 0.4500\n",
            "Epoch 27/100\n",
            "13/13 [==============================] - 3s 203ms/step - loss: 0.0084 - accuracy: 0.9987 - val_loss: 1.8690 - val_accuracy: 0.4650\n",
            "Epoch 28/100\n",
            "13/13 [==============================] - 3s 201ms/step - loss: 0.0081 - accuracy: 0.9987 - val_loss: 1.9178 - val_accuracy: 0.4950\n",
            "Epoch 29/100\n",
            "13/13 [==============================] - 3s 204ms/step - loss: 0.0070 - accuracy: 0.9987 - val_loss: 1.7658 - val_accuracy: 0.5300\n",
            "Epoch 30/100\n",
            "13/13 [==============================] - 3s 199ms/step - loss: 0.0063 - accuracy: 0.9975 - val_loss: 1.7748 - val_accuracy: 0.5250\n",
            "Epoch 31/100\n",
            "13/13 [==============================] - 3s 202ms/step - loss: 0.0060 - accuracy: 0.9987 - val_loss: 1.5387 - val_accuracy: 0.5950\n",
            "Epoch 32/100\n",
            "13/13 [==============================] - 3s 202ms/step - loss: 0.0068 - accuracy: 0.9987 - val_loss: 1.3565 - val_accuracy: 0.6100\n",
            "Epoch 33/100\n",
            "13/13 [==============================] - 3s 201ms/step - loss: 0.0057 - accuracy: 0.9987 - val_loss: 1.4651 - val_accuracy: 0.5900\n",
            "Epoch 34/100\n",
            "13/13 [==============================] - 3s 201ms/step - loss: 0.0060 - accuracy: 0.9987 - val_loss: 1.2605 - val_accuracy: 0.6450\n",
            "Epoch 35/100\n",
            "13/13 [==============================] - 3s 204ms/step - loss: 0.0049 - accuracy: 0.9987 - val_loss: 1.2388 - val_accuracy: 0.6500\n",
            "Epoch 36/100\n",
            "13/13 [==============================] - 3s 199ms/step - loss: 0.0048 - accuracy: 0.9975 - val_loss: 1.2875 - val_accuracy: 0.6400\n",
            "Epoch 37/100\n",
            "13/13 [==============================] - 3s 201ms/step - loss: 0.0044 - accuracy: 0.9987 - val_loss: 1.1918 - val_accuracy: 0.6600\n",
            "Epoch 38/100\n",
            "13/13 [==============================] - 3s 201ms/step - loss: 0.0046 - accuracy: 0.9975 - val_loss: 1.1482 - val_accuracy: 0.6800\n",
            "Epoch 39/100\n",
            "13/13 [==============================] - 3s 202ms/step - loss: 0.0041 - accuracy: 0.9987 - val_loss: 1.0913 - val_accuracy: 0.6600\n",
            "Epoch 40/100\n",
            "13/13 [==============================] - 3s 200ms/step - loss: 0.0039 - accuracy: 0.9987 - val_loss: 1.1020 - val_accuracy: 0.6650\n",
            "Epoch 41/100\n",
            "13/13 [==============================] - 3s 201ms/step - loss: 0.0051 - accuracy: 0.9987 - val_loss: 1.0861 - val_accuracy: 0.6750\n",
            "Epoch 42/100\n",
            "13/13 [==============================] - 3s 200ms/step - loss: 0.0047 - accuracy: 0.9987 - val_loss: 0.9803 - val_accuracy: 0.7000\n",
            "Epoch 43/100\n",
            "13/13 [==============================] - 3s 201ms/step - loss: 0.0043 - accuracy: 0.9975 - val_loss: 1.0430 - val_accuracy: 0.6850\n",
            "Epoch 44/100\n",
            "13/13 [==============================] - 3s 203ms/step - loss: 0.0038 - accuracy: 0.9987 - val_loss: 1.0278 - val_accuracy: 0.6950\n",
            "Epoch 45/100\n",
            "13/13 [==============================] - 3s 200ms/step - loss: 0.0037 - accuracy: 0.9987 - val_loss: 1.0266 - val_accuracy: 0.7000\n",
            "Epoch 46/100\n",
            "13/13 [==============================] - 3s 202ms/step - loss: 0.0034 - accuracy: 0.9975 - val_loss: 0.9876 - val_accuracy: 0.7150\n",
            "Epoch 47/100\n",
            "13/13 [==============================] - 3s 203ms/step - loss: 0.0042 - accuracy: 0.9987 - val_loss: 0.9605 - val_accuracy: 0.7300\n",
            "Epoch 48/100\n",
            "13/13 [==============================] - 3s 202ms/step - loss: 0.0032 - accuracy: 0.9987 - val_loss: 0.9505 - val_accuracy: 0.7450\n",
            "Epoch 49/100\n",
            "13/13 [==============================] - 3s 203ms/step - loss: 0.0033 - accuracy: 0.9975 - val_loss: 0.9743 - val_accuracy: 0.7300\n",
            "Epoch 50/100\n",
            "13/13 [==============================] - 3s 201ms/step - loss: 0.0038 - accuracy: 0.9975 - val_loss: 0.9336 - val_accuracy: 0.7300\n",
            "Epoch 51/100\n",
            "13/13 [==============================] - 3s 201ms/step - loss: 0.0035 - accuracy: 0.9987 - val_loss: 0.9717 - val_accuracy: 0.7450\n",
            "Epoch 52/100\n",
            "13/13 [==============================] - 3s 203ms/step - loss: 0.0033 - accuracy: 0.9987 - val_loss: 0.9278 - val_accuracy: 0.7400\n",
            "Epoch 53/100\n",
            "13/13 [==============================] - 3s 203ms/step - loss: 0.0043 - accuracy: 0.9987 - val_loss: 0.9221 - val_accuracy: 0.7600\n",
            "Epoch 54/100\n",
            "13/13 [==============================] - 3s 203ms/step - loss: 0.0026 - accuracy: 0.9987 - val_loss: 0.9878 - val_accuracy: 0.7400\n",
            "Epoch 55/100\n",
            "13/13 [==============================] - 3s 204ms/step - loss: 0.0038 - accuracy: 0.9987 - val_loss: 0.9185 - val_accuracy: 0.7400\n",
            "Epoch 56/100\n",
            "13/13 [==============================] - 3s 204ms/step - loss: 0.0030 - accuracy: 0.9987 - val_loss: 0.9317 - val_accuracy: 0.7400\n",
            "Epoch 57/100\n",
            "13/13 [==============================] - 3s 202ms/step - loss: 0.0038 - accuracy: 0.9975 - val_loss: 0.9295 - val_accuracy: 0.7700\n",
            "Epoch 58/100\n",
            "13/13 [==============================] - 3s 202ms/step - loss: 0.0028 - accuracy: 0.9975 - val_loss: 0.9483 - val_accuracy: 0.7500\n",
            "Epoch 59/100\n",
            "13/13 [==============================] - 3s 202ms/step - loss: 0.0029 - accuracy: 0.9987 - val_loss: 0.9330 - val_accuracy: 0.7400\n",
            "Epoch 60/100\n",
            "13/13 [==============================] - 3s 201ms/step - loss: 0.0031 - accuracy: 0.9975 - val_loss: 0.9414 - val_accuracy: 0.7500\n",
            "Epoch 61/100\n",
            "13/13 [==============================] - 3s 203ms/step - loss: 0.0027 - accuracy: 0.9987 - val_loss: 0.9277 - val_accuracy: 0.7400\n",
            "Epoch 62/100\n",
            "13/13 [==============================] - 3s 202ms/step - loss: 0.0027 - accuracy: 0.9987 - val_loss: 0.9383 - val_accuracy: 0.7450\n",
            "Epoch 63/100\n",
            "13/13 [==============================] - 3s 202ms/step - loss: 0.0032 - accuracy: 0.9987 - val_loss: 0.9375 - val_accuracy: 0.7400\n",
            "Epoch 64/100\n",
            "13/13 [==============================] - 3s 204ms/step - loss: 0.0030 - accuracy: 0.9975 - val_loss: 0.9530 - val_accuracy: 0.7500\n",
            "Epoch 65/100\n",
            "13/13 [==============================] - 3s 200ms/step - loss: 0.0026 - accuracy: 0.9987 - val_loss: 0.9277 - val_accuracy: 0.7350\n",
            "Epoch 66/100\n",
            "13/13 [==============================] - 3s 203ms/step - loss: 0.0028 - accuracy: 0.9975 - val_loss: 0.9386 - val_accuracy: 0.7450\n",
            "Epoch 67/100\n",
            "13/13 [==============================] - 3s 201ms/step - loss: 0.0033 - accuracy: 0.9975 - val_loss: 1.0135 - val_accuracy: 0.7250\n",
            "Epoch 68/100\n",
            "13/13 [==============================] - 3s 204ms/step - loss: 0.0037 - accuracy: 0.9975 - val_loss: 0.9709 - val_accuracy: 0.7250\n",
            "Epoch 69/100\n",
            "13/13 [==============================] - 3s 200ms/step - loss: 0.0037 - accuracy: 0.9987 - val_loss: 1.0201 - val_accuracy: 0.7400\n",
            "Epoch 70/100\n",
            "13/13 [==============================] - 3s 202ms/step - loss: 0.0017 - accuracy: 1.0000 - val_loss: 0.9419 - val_accuracy: 0.7250\n",
            "Epoch 71/100\n",
            "13/13 [==============================] - 3s 202ms/step - loss: 0.0045 - accuracy: 0.9987 - val_loss: 0.9964 - val_accuracy: 0.7400\n",
            "Epoch 72/100\n",
            "13/13 [==============================] - 3s 203ms/step - loss: 0.0035 - accuracy: 0.9975 - val_loss: 1.0300 - val_accuracy: 0.7450\n",
            "Epoch 73/100\n",
            "13/13 [==============================] - 3s 203ms/step - loss: 0.0036 - accuracy: 0.9975 - val_loss: 0.9641 - val_accuracy: 0.7350\n",
            "Epoch 74/100\n",
            "13/13 [==============================] - 3s 201ms/step - loss: 0.0029 - accuracy: 0.9975 - val_loss: 0.9780 - val_accuracy: 0.7350\n",
            "Epoch 75/100\n",
            "13/13 [==============================] - 3s 201ms/step - loss: 0.0028 - accuracy: 0.9987 - val_loss: 0.9969 - val_accuracy: 0.7400\n",
            "Epoch 76/100\n",
            "13/13 [==============================] - 3s 203ms/step - loss: 0.0027 - accuracy: 0.9987 - val_loss: 0.9677 - val_accuracy: 0.7400\n",
            "Epoch 77/100\n",
            "13/13 [==============================] - 3s 203ms/step - loss: 0.0028 - accuracy: 0.9987 - val_loss: 0.9558 - val_accuracy: 0.7400\n",
            "Epoch 78/100\n",
            "13/13 [==============================] - 3s 202ms/step - loss: 0.0026 - accuracy: 0.9975 - val_loss: 0.9456 - val_accuracy: 0.7400\n",
            "Epoch 79/100\n",
            "13/13 [==============================] - 3s 204ms/step - loss: 0.0028 - accuracy: 0.9987 - val_loss: 0.9543 - val_accuracy: 0.7450\n",
            "Epoch 80/100\n",
            "13/13 [==============================] - 3s 202ms/step - loss: 0.0028 - accuracy: 0.9987 - val_loss: 0.9655 - val_accuracy: 0.7450\n",
            "Epoch 81/100\n",
            "13/13 [==============================] - 3s 203ms/step - loss: 0.0026 - accuracy: 0.9975 - val_loss: 0.9853 - val_accuracy: 0.7450\n",
            "Epoch 82/100\n",
            "13/13 [==============================] - 3s 202ms/step - loss: 0.0027 - accuracy: 0.9987 - val_loss: 0.9607 - val_accuracy: 0.7400\n",
            "Epoch 83/100\n",
            "13/13 [==============================] - 3s 203ms/step - loss: 0.0029 - accuracy: 0.9975 - val_loss: 0.9498 - val_accuracy: 0.7350\n",
            "Epoch 84/100\n",
            "13/13 [==============================] - 3s 203ms/step - loss: 0.0026 - accuracy: 0.9987 - val_loss: 0.9555 - val_accuracy: 0.7450\n",
            "Epoch 85/100\n",
            "13/13 [==============================] - 3s 203ms/step - loss: 0.0026 - accuracy: 0.9987 - val_loss: 0.9560 - val_accuracy: 0.7500\n",
            "Epoch 86/100\n",
            "13/13 [==============================] - 3s 204ms/step - loss: 0.0033 - accuracy: 0.9975 - val_loss: 0.9809 - val_accuracy: 0.7450\n",
            "Epoch 87/100\n",
            "13/13 [==============================] - 3s 202ms/step - loss: 0.0023 - accuracy: 0.9987 - val_loss: 0.9601 - val_accuracy: 0.7250\n",
            "Epoch 88/100\n",
            "13/13 [==============================] - 3s 203ms/step - loss: 0.0024 - accuracy: 0.9975 - val_loss: 0.9589 - val_accuracy: 0.7400\n",
            "Epoch 89/100\n",
            "13/13 [==============================] - 3s 203ms/step - loss: 0.0028 - accuracy: 0.9975 - val_loss: 0.9698 - val_accuracy: 0.7450\n",
            "Epoch 90/100\n",
            "13/13 [==============================] - 3s 204ms/step - loss: 0.0033 - accuracy: 0.9987 - val_loss: 0.9653 - val_accuracy: 0.7300\n",
            "Epoch 91/100\n",
            "13/13 [==============================] - 3s 203ms/step - loss: 0.0022 - accuracy: 0.9987 - val_loss: 0.9836 - val_accuracy: 0.7500\n",
            "Epoch 92/100\n",
            "13/13 [==============================] - 3s 202ms/step - loss: 0.0024 - accuracy: 0.9975 - val_loss: 0.9707 - val_accuracy: 0.7450\n",
            "Epoch 93/100\n",
            "13/13 [==============================] - 3s 204ms/step - loss: 0.0024 - accuracy: 0.9975 - val_loss: 0.9740 - val_accuracy: 0.7450\n",
            "Epoch 94/100\n",
            "13/13 [==============================] - 3s 204ms/step - loss: 0.0025 - accuracy: 0.9987 - val_loss: 0.9647 - val_accuracy: 0.7250\n",
            "Epoch 95/100\n",
            "13/13 [==============================] - 3s 206ms/step - loss: 0.0027 - accuracy: 0.9987 - val_loss: 0.9840 - val_accuracy: 0.7450\n",
            "Epoch 96/100\n",
            "13/13 [==============================] - 3s 203ms/step - loss: 0.0023 - accuracy: 0.9987 - val_loss: 0.9995 - val_accuracy: 0.7500\n",
            "Epoch 97/100\n",
            "13/13 [==============================] - 3s 203ms/step - loss: 0.0027 - accuracy: 0.9987 - val_loss: 0.9784 - val_accuracy: 0.7400\n",
            "Epoch 98/100\n",
            "13/13 [==============================] - 3s 205ms/step - loss: 0.0022 - accuracy: 0.9987 - val_loss: 0.9580 - val_accuracy: 0.7300\n",
            "Epoch 99/100\n",
            "13/13 [==============================] - 3s 207ms/step - loss: 0.0041 - accuracy: 0.9987 - val_loss: 0.9608 - val_accuracy: 0.7400\n",
            "Epoch 100/100\n",
            "13/13 [==============================] - 3s 203ms/step - loss: 0.0025 - accuracy: 0.9987 - val_loss: 1.0236 - val_accuracy: 0.7550\n"
          ]
        }
      ],
      "source": [
        "epochs = 100\n",
        "history = model.fit(\n",
        "  X_train,\n",
        "  y_train,\n",
        "  epochs=epochs,\n",
        "  batch_size = 64,\n",
        "  validation_data=(X_test, y_test)\n",
        ")"
      ]
    },
    {
      "cell_type": "code",
      "execution_count": null,
      "metadata": {
        "colab": {
          "base_uri": "https://localhost:8080/"
        },
        "id": "_Qk_dfFVmabz",
        "outputId": "28bd3c66-d4e9-4b39-8c00-86cf5b2b532e"
      },
      "outputs": [
        {
          "output_type": "stream",
          "name": "stdout",
          "text": [
            "Model: \"sequential\"\n",
            "_________________________________________________________________\n",
            " Layer (type)                Output Shape              Param #   \n",
            "=================================================================\n",
            " conv2d (Conv2D)             (None, 286, 430, 32)      896       \n",
            "                                                                 \n",
            " max_pooling2d (MaxPooling2D  (None, 143, 215, 32)     0         \n",
            " )                                                               \n",
            "                                                                 \n",
            " batch_normalization (BatchN  (None, 143, 215, 32)     128       \n",
            " ormalization)                                                   \n",
            "                                                                 \n",
            " conv2d_1 (Conv2D)           (None, 141, 213, 32)      9248      \n",
            "                                                                 \n",
            " max_pooling2d_1 (MaxPooling  (None, 70, 106, 32)      0         \n",
            " 2D)                                                             \n",
            "                                                                 \n",
            " batch_normalization_1 (Batc  (None, 70, 106, 32)      128       \n",
            " hNormalization)                                                 \n",
            "                                                                 \n",
            " conv2d_2 (Conv2D)           (None, 68, 104, 32)       9248      \n",
            "                                                                 \n",
            " max_pooling2d_2 (MaxPooling  (None, 34, 52, 32)       0         \n",
            " 2D)                                                             \n",
            "                                                                 \n",
            " batch_normalization_2 (Batc  (None, 34, 52, 32)       128       \n",
            " hNormalization)                                                 \n",
            "                                                                 \n",
            " conv2d_3 (Conv2D)           (None, 32, 50, 32)        9248      \n",
            "                                                                 \n",
            " max_pooling2d_3 (MaxPooling  (None, 16, 25, 32)       0         \n",
            " 2D)                                                             \n",
            "                                                                 \n",
            " batch_normalization_3 (Batc  (None, 16, 25, 32)       128       \n",
            " hNormalization)                                                 \n",
            "                                                                 \n",
            " flatten (Flatten)           (None, 12800)             0         \n",
            "                                                                 \n",
            " dense (Dense)               (None, 32)                409632    \n",
            "                                                                 \n",
            " dense_1 (Dense)             (None, 10)                330       \n",
            "                                                                 \n",
            "=================================================================\n",
            "Total params: 439,114\n",
            "Trainable params: 438,858\n",
            "Non-trainable params: 256\n",
            "_________________________________________________________________\n"
          ]
        }
      ],
      "source": [
        "model.summary()"
      ]
    },
    {
      "cell_type": "code",
      "execution_count": null,
      "metadata": {
        "colab": {
          "base_uri": "https://localhost:8080/",
          "height": 499
        },
        "id": "Q-WtV2TpteJR",
        "outputId": "30ab4a0c-0339-4db3-b257-c6fd5e742a74"
      },
      "outputs": [
        {
          "output_type": "display_data",
          "data": {
            "text/plain": [
              "<Figure size 576x576 with 2 Axes>"
            ],
            "image/png": "[encoded data removed]"
          },
          "metadata": {
            "needs_background": "light"
          }
        }
      ],
      "source": [
        "acc = history.history['accuracy']\n",
        "val_acc = history.history['val_accuracy']\n",
        "\n",
        "loss = history.history['loss']\n",
        "val_loss = history.history['val_loss']\n",
        "\n",
        "epochs_range = range(epochs)\n",
        "\n",
        "plt.figure(figsize=(8, 8))\n",
        "plt.subplot(1, 2, 1)\n",
        "plt.plot(epochs_range, acc, label='Training Accuracy')\n",
        "plt.plot(epochs_range, val_acc, label='Validation Accuracy')\n",
        "plt.legend(loc='lower right')\n",
        "plt.title('Training and Validation Accuracy')\n",
        "\n",
        "plt.subplot(1, 2, 2)\n",
        "plt.plot(epochs_range, loss, label='Training Loss')\n",
        "plt.plot(epochs_range, val_loss, label='Validation Loss')\n",
        "plt.legend(loc='upper right')\n",
        "plt.title('Training and Validation Loss')\n",
        "plt.show()\n"
      ]
    },
    {
      "cell_type": "code",
      "source": [
        "model.save('/content/drive/MyDrive/Project')"
      ],
      "metadata": {
        "colab": {
          "base_uri": "https://localhost:8080/"
        },
        "id": "Fmpg07wqIC8v",
        "outputId": "525b9433-49dd-4231-94f6-187fe9bcb3ed"
      },
      "execution_count": null,
      "outputs": [
        {
          "output_type": "stream",
          "name": "stderr",
          "text": [
            "WARNING:absl:Found untraced functions such as _jit_compiled_convolution_op, _jit_compiled_convolution_op, _jit_compiled_convolution_op, _jit_compiled_convolution_op while saving (showing 4 of 4). These functions will not be directly callable after loading.\n"
          ]
        }
      ]
    },
    {
      "cell_type": "markdown",
      "source": [
        "## Confusion Matrix\n",
        "\n",
        "Due to high RAM usage, confusion matrix is obtained by loading the model on a fresh collab instance to prevent crashes.\n",
        "\n"
      ],
      "metadata": {
        "id": "pMh0qLMXwBg9"
      }
    },
    {
      "cell_type": "code",
      "source": [
        "#model = keras.models.load_model('/content/drive/MyDrive/Project/')\n",
        "model = keras.models.load_model('/content/drive/.shortcut-targets-by-id/1t2m1B5Db93pdH3FPEMuGW2WGR73BeWnR/COMP411/Project/')"
      ],
      "metadata": {
        "id": "SLHsagbLJeOG"
      },
      "execution_count": 15,
      "outputs": []
    },
    {
      "cell_type": "code",
      "source": [
        "from sklearn.metrics import confusion_matrix, ConfusionMatrixDisplay\n",
        "\n",
        "#Predict\n",
        "y_prediction = model.predict(X_test).round()\n",
        "#score = model.evaluate(X_train, y_train)\n",
        "#print(score)\n",
        "\n",
        "#Create confusion matrix and normalizes it over predicted (columns)\n",
        "matrix = matrix = confusion_matrix(y_test, np.argmax(y_prediction, axis=1))"
      ],
      "metadata": {
        "colab": {
          "base_uri": "https://localhost:8080/"
        },
        "id": "HK4DjLRqC4Z3",
        "outputId": "0fdd5e0b-6e01-41bb-cc64-d981d107a4b0"
      },
      "execution_count": 31,
      "outputs": [
        {
          "output_type": "stream",
          "name": "stdout",
          "text": [
            "7/7 [==============================] - 0s 43ms/step\n"
          ]
        }
      ]
    },
    {
      "cell_type": "code",
      "source": [
        "display = ConfusionMatrixDisplay(matrix, display_labels = genre_list)\n",
        "fig, ax = plt.subplots(figsize=(10, 10))\n",
        "display.plot(ax=ax)"
      ],
      "metadata": {
        "colab": {
          "base_uri": "https://localhost:8080/",
          "height": 597
        },
        "id": "MRmoMo4LsE8T",
        "outputId": "f0ec0421-a6fe-415f-c9ce-8e0c97fc4447"
      },
      "execution_count": 38,
      "outputs": [
        {
          "output_type": "execute_result",
          "data": {
            "text/plain": [
              "<sklearn.metrics._plot.confusion_matrix.ConfusionMatrixDisplay at 0x7fdd109c41c0>"
            ]
          },
          "metadata": {},
          "execution_count": 38
        },
        {
          "output_type": "display_data",
          "data": {
            "text/plain": [
              "<Figure size 720x720 with 2 Axes>"
            ],
            "image/png": "[encoded data removed]"
          },
          "metadata": {
            "needs_background": "light"
          }
        }
      ]
    }
  ],
  "metadata": {
    "accelerator": "GPU",
    "colab": {
      "provenance": [],
      "machine_shape": "hm"
    },
    "gpuClass": "standard",
    "kernelspec": {
      "display_name": "base",
      "language": "python",
      "name": "python3"
    },
    "language_info": {
      "codemirror_mode": {
        "name": "ipython",
        "version": 3
      },
      "file_extension": ".py",
      "mimetype": "text/x-python",
      "name": "python",
      "nbconvert_exporter": "python",
      "pygments_lexer": "ipython3",
      "version": "3.9.13"
    },
    "vscode": {
      "interpreter": {
        "hash": "78bf884de718050e6d9c090e843737a0a766c62abc1c4c032cc9811c90dc8e98"
      }
    }
  },
  "nbformat": 4,
  "nbformat_minor": 0
}